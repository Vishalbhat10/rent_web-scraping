{
 "cells": [
  {
   "cell_type": "code",
   "execution_count": 2,
   "metadata": {},
   "outputs": [],
   "source": [
    "import pandas as pd\n",
    "import numpy as np"
   ]
  },
  {
   "cell_type": "code",
   "execution_count": 14,
   "metadata": {},
   "outputs": [],
   "source": [
    "col = ['Price','Rooms','location']"
   ]
  },
  {
   "cell_type": "code",
   "execution_count": 21,
   "metadata": {},
   "outputs": [],
   "source": [
    "#Reading the Rent Data\n",
    "Data = pd.read_csv('/Users/Vishal/Documents/scrapping_new.csv',names=col,header = None,sep = ',')\n"
   ]
  },
  {
   "cell_type": "code",
   "execution_count": 135,
   "metadata": {},
   "outputs": [],
   "source": [
    "pd.options.display.max_rows = 1000"
   ]
  },
  {
   "cell_type": "code",
   "execution_count": 53,
   "metadata": {},
   "outputs": [],
   "source": [
    "#Data tyoe conversion\n",
    "Data['location'] = Data['location'].apply(lambda x : str(x))\n",
    "Data['Rooms'] = Data['Rooms'].apply(lambda x : str(x))\n"
   ]
  },
  {
   "cell_type": "code",
   "execution_count": null,
   "metadata": {},
   "outputs": [],
   "source": [
    "#Creating a new column called Districts with all the District Values\n",
    "Data['Districts'] = Data['location'].apply(lambda x : x[-10:])"
   ]
  },
  {
   "cell_type": "code",
   "execution_count": 37,
   "metadata": {},
   "outputs": [
    {
     "data": {
      "text/html": [
       "<div>\n",
       "<style scoped>\n",
       "    .dataframe tbody tr th:only-of-type {\n",
       "        vertical-align: middle;\n",
       "    }\n",
       "\n",
       "    .dataframe tbody tr th {\n",
       "        vertical-align: top;\n",
       "    }\n",
       "\n",
       "    .dataframe thead th {\n",
       "        text-align: right;\n",
       "    }\n",
       "</style>\n",
       "<table border=\"1\" class=\"dataframe\">\n",
       "  <thead>\n",
       "    <tr style=\"text-align: right;\">\n",
       "      <th></th>\n",
       "      <th>Price</th>\n",
       "      <th>Rooms</th>\n",
       "      <th>location</th>\n",
       "      <th>Districts</th>\n",
       "    </tr>\n",
       "  </thead>\n",
       "  <tbody>\n",
       "    <tr>\n",
       "      <th>0</th>\n",
       "      <td>€2,000 monthly</td>\n",
       "      <td>3 bedrooms (1 single, 2 double), 2 bathrooms, ...</td>\n",
       "      <td>Homeville Court, Knocklyon, Dublin 16</td>\n",
       "      <td>Dublin 16</td>\n",
       "    </tr>\n",
       "    <tr>\n",
       "      <th>1</th>\n",
       "      <td>€1,272 monthly</td>\n",
       "      <td>1 bedroom (1 double), 1 bathroom, furnished</td>\n",
       "      <td>Beech House, Carrickmines Green, Carrickmines,...</td>\n",
       "      <td>Dublin 18</td>\n",
       "    </tr>\n",
       "    <tr>\n",
       "      <th>2</th>\n",
       "      <td>€1,600 monthly</td>\n",
       "      <td>1 bedroom (1 double), 1 bathroom, furnished</td>\n",
       "      <td>Rockview, Sandyford, Dublin 18</td>\n",
       "      <td>Dublin 18</td>\n",
       "    </tr>\n",
       "    <tr>\n",
       "      <th>3</th>\n",
       "      <td>€1,725 monthly</td>\n",
       "      <td>3 bedrooms (3 double), 2 bathrooms, furnished</td>\n",
       "      <td>Old River Road, Blanchardstown, Dublin 15</td>\n",
       "      <td>Dublin 15</td>\n",
       "    </tr>\n",
       "    <tr>\n",
       "      <th>4</th>\n",
       "      <td>€1,700 monthly</td>\n",
       "      <td>2 bedrooms (2 double), 1 bathroom, furnished</td>\n",
       "      <td>Hybreasal House, Kilmainham, Dublin 8</td>\n",
       "      <td>, Dublin 8</td>\n",
       "    </tr>\n",
       "  </tbody>\n",
       "</table>\n",
       "</div>"
      ],
      "text/plain": [
       "            Price                                              Rooms  \\\n",
       "0  €2,000 monthly  3 bedrooms (1 single, 2 double), 2 bathrooms, ...   \n",
       "1  €1,272 monthly        1 bedroom (1 double), 1 bathroom, furnished   \n",
       "2  €1,600 monthly        1 bedroom (1 double), 1 bathroom, furnished   \n",
       "3  €1,725 monthly      3 bedrooms (3 double), 2 bathrooms, furnished   \n",
       "4  €1,700 monthly       2 bedrooms (2 double), 1 bathroom, furnished   \n",
       "\n",
       "                                            location   Districts  \n",
       "0              Homeville Court, Knocklyon, Dublin 16   Dublin 16  \n",
       "1  Beech House, Carrickmines Green, Carrickmines,...   Dublin 18  \n",
       "2                     Rockview, Sandyford, Dublin 18   Dublin 18  \n",
       "3          Old River Road, Blanchardstown, Dublin 15   Dublin 15  \n",
       "4              Hybreasal House, Kilmainham, Dublin 8  , Dublin 8  "
      ]
     },
     "execution_count": 37,
     "metadata": {},
     "output_type": "execute_result"
    }
   ],
   "source": [
    "Data.head()"
   ]
  },
  {
   "cell_type": "code",
   "execution_count": 130,
   "metadata": {},
   "outputs": [],
   "source": [
    "#Creating a new column called Bedroom_single with necessary conditions( one single bedroom = 1, Two single Bedroom = 2 etc)\n",
    "Data['Bedroom_Single'] = np.where(Data['Rooms'].str.contains('1 single'), 1,\n",
    "                                  (np.where(Data['Rooms'].str.contains('2 single'), 2,\n",
    "                                            np.where(Data['Rooms'].str.contains('3 single'), 3, 0))))\n",
    "                                                    "
   ]
  },
  {
   "cell_type": "code",
   "execution_count": 140,
   "metadata": {},
   "outputs": [],
   "source": [
    "#Creating a new column called Bedroom_Double with necessary conditions( one Double bedroom = 1, Two Double Bedroom = 2 etc)\n",
    "\n",
    "Data['Bedroom_Double'] = np.where(Data['Rooms'].str.contains('1 double'), 1,\n",
    "                                  (np.where(Data['Rooms'].str.contains('2 double'), 2,\n",
    "                                            np.where(Data['Rooms'].str.contains('3 double'), 3, 0))))\n"
   ]
  },
  {
   "cell_type": "code",
   "execution_count": 138,
   "metadata": {},
   "outputs": [],
   "source": [
    "#Creating a new column called No_of_Bathrooms\n",
    "\n",
    "Data['No_of_Bathrooms'] = np.where(Data['Rooms'].str.contains('1 bathroom'), 1,\n",
    "                                  (np.where(Data['Rooms'].str.contains('2 bathrooms'), 2,\n",
    "                                            np.where(Data['Rooms'].str.contains('3 bathrooms'), 3, 0))))"
   ]
  },
  {
   "cell_type": "code",
   "execution_count": 144,
   "metadata": {},
   "outputs": [],
   "source": [
    "#Creating a new column called studio_apartment\n",
    "Data['studio_apartment'] = np.where(Data['Rooms'].str.contains('studio'), 1,0)"
   ]
  },
  {
   "cell_type": "code",
   "execution_count": 167,
   "metadata": {},
   "outputs": [
    {
     "data": {
      "text/html": [
       "<div>\n",
       "<style scoped>\n",
       "    .dataframe tbody tr th:only-of-type {\n",
       "        vertical-align: middle;\n",
       "    }\n",
       "\n",
       "    .dataframe tbody tr th {\n",
       "        vertical-align: top;\n",
       "    }\n",
       "\n",
       "    .dataframe thead th {\n",
       "        text-align: right;\n",
       "    }\n",
       "</style>\n",
       "<table border=\"1\" class=\"dataframe\">\n",
       "  <thead>\n",
       "    <tr style=\"text-align: right;\">\n",
       "      <th></th>\n",
       "      <th>Price</th>\n",
       "      <th>Rooms</th>\n",
       "      <th>location</th>\n",
       "      <th>Districts</th>\n",
       "      <th>Bedroom_Double</th>\n",
       "      <th>Bedroom_Single</th>\n",
       "      <th>No_Of_Bathrooms</th>\n",
       "      <th>Studio_Apartment</th>\n",
       "    </tr>\n",
       "  </thead>\n",
       "  <tbody>\n",
       "    <tr>\n",
       "      <th>0</th>\n",
       "      <td>€2,000 monthly</td>\n",
       "      <td>3 bedrooms (1 single, 2 double), 2 bathrooms, ...</td>\n",
       "      <td>Homeville Court, Knocklyon, Dublin 16</td>\n",
       "      <td>Dublin 16</td>\n",
       "      <td>2</td>\n",
       "      <td>1</td>\n",
       "      <td>2</td>\n",
       "      <td>0</td>\n",
       "    </tr>\n",
       "    <tr>\n",
       "      <th>1</th>\n",
       "      <td>€1,272 monthly</td>\n",
       "      <td>1 bedroom (1 double), 1 bathroom, furnished</td>\n",
       "      <td>Beech House, Carrickmines Green, Carrickmines,...</td>\n",
       "      <td>Dublin 18</td>\n",
       "      <td>1</td>\n",
       "      <td>0</td>\n",
       "      <td>1</td>\n",
       "      <td>0</td>\n",
       "    </tr>\n",
       "    <tr>\n",
       "      <th>2</th>\n",
       "      <td>€1,600 monthly</td>\n",
       "      <td>1 bedroom (1 double), 1 bathroom, furnished</td>\n",
       "      <td>Rockview, Sandyford, Dublin 18</td>\n",
       "      <td>Dublin 18</td>\n",
       "      <td>1</td>\n",
       "      <td>0</td>\n",
       "      <td>1</td>\n",
       "      <td>0</td>\n",
       "    </tr>\n",
       "    <tr>\n",
       "      <th>3</th>\n",
       "      <td>€1,725 monthly</td>\n",
       "      <td>3 bedrooms (3 double), 2 bathrooms, furnished</td>\n",
       "      <td>Old River Road, Blanchardstown, Dublin 15</td>\n",
       "      <td>Dublin 15</td>\n",
       "      <td>3</td>\n",
       "      <td>0</td>\n",
       "      <td>2</td>\n",
       "      <td>0</td>\n",
       "    </tr>\n",
       "    <tr>\n",
       "      <th>4</th>\n",
       "      <td>€1,700 monthly</td>\n",
       "      <td>2 bedrooms (2 double), 1 bathroom, furnished</td>\n",
       "      <td>Hybreasal House, Kilmainham, Dublin 8</td>\n",
       "      <td>Dublin 8</td>\n",
       "      <td>2</td>\n",
       "      <td>0</td>\n",
       "      <td>1</td>\n",
       "      <td>0</td>\n",
       "    </tr>\n",
       "  </tbody>\n",
       "</table>\n",
       "</div>"
      ],
      "text/plain": [
       "            Price                                              Rooms  \\\n",
       "0  €2,000 monthly  3 bedrooms (1 single, 2 double), 2 bathrooms, ...   \n",
       "1  €1,272 monthly        1 bedroom (1 double), 1 bathroom, furnished   \n",
       "2  €1,600 monthly        1 bedroom (1 double), 1 bathroom, furnished   \n",
       "3  €1,725 monthly      3 bedrooms (3 double), 2 bathrooms, furnished   \n",
       "4  €1,700 monthly       2 bedrooms (2 double), 1 bathroom, furnished   \n",
       "\n",
       "                                            location   Districts  \\\n",
       "0              Homeville Court, Knocklyon, Dublin 16   Dublin 16   \n",
       "1  Beech House, Carrickmines Green, Carrickmines,...   Dublin 18   \n",
       "2                     Rockview, Sandyford, Dublin 18   Dublin 18   \n",
       "3          Old River Road, Blanchardstown, Dublin 15   Dublin 15   \n",
       "4              Hybreasal House, Kilmainham, Dublin 8    Dublin 8   \n",
       "\n",
       "   Bedroom_Double  Bedroom_Single  No_Of_Bathrooms  Studio_Apartment  \n",
       "0               2               1                2                 0  \n",
       "1               1               0                1                 0  \n",
       "2               1               0                1                 0  \n",
       "3               3               0                2                 0  \n",
       "4               2               0                1                 0  "
      ]
     },
     "execution_count": 167,
     "metadata": {},
     "output_type": "execute_result"
    }
   ],
   "source": [
    "Data.head()"
   ]
  },
  {
   "cell_type": "code",
   "execution_count": 155,
   "metadata": {},
   "outputs": [],
   "source": [
    "#Cleaning the data in the column\n",
    "Data['Districts'] = Data['Districts'].apply(lambda x : re.sub(r\"[^a-zA-Z0-9]+\", ' ',x))"
   ]
  },
  {
   "cell_type": "code",
   "execution_count": 168,
   "metadata": {},
   "outputs": [],
   "source": [
    "#Removing the Euro symbol\n",
    "Data['Price'] = Data['Price'].apply(lambda x : re.sub(r\"[^0-9]+\", '',x))"
   ]
  },
  {
   "cell_type": "code",
   "execution_count": 178,
   "metadata": {},
   "outputs": [
    {
     "data": {
      "text/html": [
       "<div>\n",
       "<style scoped>\n",
       "    .dataframe tbody tr th:only-of-type {\n",
       "        vertical-align: middle;\n",
       "    }\n",
       "\n",
       "    .dataframe tbody tr th {\n",
       "        vertical-align: top;\n",
       "    }\n",
       "\n",
       "    .dataframe thead th {\n",
       "        text-align: right;\n",
       "    }\n",
       "</style>\n",
       "<table border=\"1\" class=\"dataframe\">\n",
       "  <thead>\n",
       "    <tr style=\"text-align: right;\">\n",
       "      <th></th>\n",
       "      <th>Price</th>\n",
       "      <th>Rooms</th>\n",
       "      <th>location</th>\n",
       "      <th>Districts</th>\n",
       "      <th>Bedroom_Double</th>\n",
       "      <th>Bedroom_Single</th>\n",
       "      <th>No_Of_Bathrooms</th>\n",
       "      <th>Studio_Apartment</th>\n",
       "    </tr>\n",
       "  </thead>\n",
       "  <tbody>\n",
       "    <tr>\n",
       "      <th>0</th>\n",
       "      <td>2000</td>\n",
       "      <td>3 bedrooms (1 single, 2 double), 2 bathrooms, ...</td>\n",
       "      <td>Homeville Court, Knocklyon, Dublin 16</td>\n",
       "      <td>Dublin 16</td>\n",
       "      <td>2</td>\n",
       "      <td>1</td>\n",
       "      <td>2</td>\n",
       "      <td>0</td>\n",
       "    </tr>\n",
       "    <tr>\n",
       "      <th>1</th>\n",
       "      <td>1272</td>\n",
       "      <td>1 bedroom (1 double), 1 bathroom, furnished</td>\n",
       "      <td>Beech House, Carrickmines Green, Carrickmines,...</td>\n",
       "      <td>Dublin 18</td>\n",
       "      <td>1</td>\n",
       "      <td>0</td>\n",
       "      <td>1</td>\n",
       "      <td>0</td>\n",
       "    </tr>\n",
       "    <tr>\n",
       "      <th>2</th>\n",
       "      <td>1600</td>\n",
       "      <td>1 bedroom (1 double), 1 bathroom, furnished</td>\n",
       "      <td>Rockview, Sandyford, Dublin 18</td>\n",
       "      <td>Dublin 18</td>\n",
       "      <td>1</td>\n",
       "      <td>0</td>\n",
       "      <td>1</td>\n",
       "      <td>0</td>\n",
       "    </tr>\n",
       "    <tr>\n",
       "      <th>3</th>\n",
       "      <td>1725</td>\n",
       "      <td>3 bedrooms (3 double), 2 bathrooms, furnished</td>\n",
       "      <td>Old River Road, Blanchardstown, Dublin 15</td>\n",
       "      <td>Dublin 15</td>\n",
       "      <td>3</td>\n",
       "      <td>0</td>\n",
       "      <td>2</td>\n",
       "      <td>0</td>\n",
       "    </tr>\n",
       "    <tr>\n",
       "      <th>4</th>\n",
       "      <td>1700</td>\n",
       "      <td>2 bedrooms (2 double), 1 bathroom, furnished</td>\n",
       "      <td>Hybreasal House, Kilmainham, Dublin 8</td>\n",
       "      <td>Dublin 8</td>\n",
       "      <td>2</td>\n",
       "      <td>0</td>\n",
       "      <td>1</td>\n",
       "      <td>0</td>\n",
       "    </tr>\n",
       "  </tbody>\n",
       "</table>\n",
       "</div>"
      ],
      "text/plain": [
       "   Price                                              Rooms  \\\n",
       "0   2000  3 bedrooms (1 single, 2 double), 2 bathrooms, ...   \n",
       "1   1272        1 bedroom (1 double), 1 bathroom, furnished   \n",
       "2   1600        1 bedroom (1 double), 1 bathroom, furnished   \n",
       "3   1725      3 bedrooms (3 double), 2 bathrooms, furnished   \n",
       "4   1700       2 bedrooms (2 double), 1 bathroom, furnished   \n",
       "\n",
       "                                            location   Districts  \\\n",
       "0              Homeville Court, Knocklyon, Dublin 16   Dublin 16   \n",
       "1  Beech House, Carrickmines Green, Carrickmines,...   Dublin 18   \n",
       "2                     Rockview, Sandyford, Dublin 18   Dublin 18   \n",
       "3          Old River Road, Blanchardstown, Dublin 15   Dublin 15   \n",
       "4              Hybreasal House, Kilmainham, Dublin 8    Dublin 8   \n",
       "\n",
       "   Bedroom_Double  Bedroom_Single  No_Of_Bathrooms  Studio_Apartment  \n",
       "0               2               1                2                 0  \n",
       "1               1               0                1                 0  \n",
       "2               1               0                1                 0  \n",
       "3               3               0                2                 0  \n",
       "4               2               0                1                 0  "
      ]
     },
     "execution_count": 178,
     "metadata": {},
     "output_type": "execute_result"
    }
   ],
   "source": [
    "Data['Price'] = Data['Price'].apply(lambda x : int(x))\n",
    "Data.head()\n"
   ]
  },
  {
   "cell_type": "code",
   "execution_count": null,
   "metadata": {},
   "outputs": [],
   "source": []
  }
 ],
 "metadata": {
  "kernelspec": {
   "display_name": "Python 3",
   "language": "python",
   "name": "python3"
  },
  "language_info": {
   "codemirror_mode": {
    "name": "ipython",
    "version": 3
   },
   "file_extension": ".py",
   "mimetype": "text/x-python",
   "name": "python",
   "nbconvert_exporter": "python",
   "pygments_lexer": "ipython3",
   "version": "3.7.6"
  }
 },
 "nbformat": 4,
 "nbformat_minor": 2
}
