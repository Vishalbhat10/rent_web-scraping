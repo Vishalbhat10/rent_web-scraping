{
 "cells": [
  {
   "cell_type": "code",
   "execution_count": 116,
   "metadata": {},
   "outputs": [],
   "source": [
    "import bs4"
   ]
  },
  {
   "cell_type": "code",
   "execution_count": 117,
   "metadata": {},
   "outputs": [],
   "source": [
    "from bs4 import BeautifulSoup" 
   ]
  },
  {
   "cell_type": "code",
   "execution_count": 118,
   "metadata": {},
   "outputs": [],
   "source": [
    "import urllib\n",
    "from urllib import request\n",
    "from urllib.request import urlopen\n",
    "import csv"
   ]
  },
  {
   "cell_type": "code",
   "execution_count": 120,
   "metadata": {},
   "outputs": [],
   "source": [
    "for number in range(1,32):\n",
    "    url1=  str('https://www.rent.ie/houses-to-let/renting_dublin/rent_0-2000/page_')\n",
    "    page = url1 + str(number)\n",
    "    req = request.Request(page, headers={'User-Agent': 'Mozilla/5.0 (Macintosh; Intel Mac OS X 10_10_2) AppleWebKit/537.36 (KHTML, like Gecko) Chrome/40.0.2214.115 Safari/537.36'})\n",
    "    URL = urlopen(req)\n",
    "    Soup = BeautifulSoup(URL,'html.parser')\n",
    "    for a in Soup.find_all('div',attrs={'class':'search_result'}):\n",
    "        Address = a.h2.a.text.strip()\n",
    "        Price = a.h4.text.strip()\n",
    "        Details = a.h3.text.strip()\n",
    "        semi = '|'\n",
    "        with open('scrapping.csv','a') as csv_file:\n",
    "            writer = csv.writer(csv_file)\n",
    "            writer.writerow([Price,Details,Address])\n",
    "        #print(Price,';',Details,';',Address)\n",
    "        #data.append((Price,semi,Details,semi,Address))\n",
    "        \n",
    "   \n",
    "    "
   ]
  }
 ],
 "metadata": {
  "kernelspec": {
   "display_name": "Python 3",
   "language": "python",
   "name": "python3"
  },
  "language_info": {
   "codemirror_mode": {
    "name": "ipython",
    "version": 3
   },
   "file_extension": ".py",
   "mimetype": "text/x-python",
   "name": "python",
   "nbconvert_exporter": "python",
   "pygments_lexer": "ipython3",
   "version": "3.6.5"
  }
 },
 "nbformat": 4,
 "nbformat_minor":2
}
